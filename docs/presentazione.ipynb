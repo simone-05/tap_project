{
 "cells": [
  {
   "cell_type": "markdown",
   "metadata": {
    "slideshow": {
     "slide_type": "slide"
    }
   },
   "source": [
    "# Spotify mainstreamness analyzer\n",
    "\n",
    "##### How much mainstream is your music?"
   ]
  },
  {
   "cell_type": "markdown",
   "metadata": {
    "slideshow": {
     "slide_type": "fragment"
    }
   },
   "source": [
    "![Image](pipeline.png)"
   ]
  },
  {
   "cell_type": "markdown",
   "metadata": {
    "slideshow": {
     "slide_type": "slide"
    }
   },
   "source": [
    "## Spotify\n",
    "\n",
    "Mette a disposizione una api, per ottenere informazioni su brani, artisti, playlist e altro.\n",
    "In particolare mette a disposizione una serie di informazioni su ogni brano, di due tipi:\n",
    "Basso livello: dove fa un'analisi molto dettagliata su ogni secondo del brano, con pitch, timbro, beats e altro.\n",
    "Alto livello: una serie di indici per classificare il brano, che forniscono informazioni più esplicite e immediate. Ci sono 7 indici che definiscono caratteristiche di un brano, ognuno può assumere valori da 0 a 1 compresi:\n",
    "- __speechiness__:\n",
    "    quanto parlato c'è nel brano\n",
    "- __danceability__:\n",
    "    quanto è ballabile\n",
    "- __liveness__:\n",
    "    quanto il suono è dal vivo (come concerti)\n",
    "- __valence__:\n",
    "    più o meno misura la \"felicità\" del brano\n",
    "- __energy__:\n",
    "    misura intensità e attività\n",
    "- __instrumentalness__:\n",
    "    quanto è strumentale\n",
    "- __acousticness__:\n",
    "    quanto è appunto acustica (basso: elettronica, alto: classica)"
   ]
  },
  {
   "cell_type": "markdown",
   "metadata": {
    "slideshow": {
     "slide_type": "slide"
    }
   },
   "source": [
    "## Web ui\n",
    "\n",
    "Ho costruito un piccolo front-end per fare il login con le credenziali di un client spotify, ed eseguire le query e ottenere una lista dei primi 10 risultati.\n",
    "Cliccando sul titolo, si va alla pagina spotify corrispondente. Possiamo vedere il risultato come json, e inviarlo a logstash.\n",
    "Il codice python è servito da flask, sulla porta 5001."
   ]
  },
  {
   "cell_type": "markdown",
   "metadata": {
    "slideshow": {
     "slide_type": "slide"
    }
   },
   "source": [
    "## Python\n",
    "\n",
    "Dietro la pagna web, sta uno script producer.py, che esegue le query a spotify.\n",
    "Per eseguire richieste all'api di spotify ho usato una libreria apposita di python: _spotipy_.\n",
    "Prima di poter fare richieste però è necessario prima però creare un'applicazione sulla dashboard di spotify developer, e connettere lo script ad essa con _client id_ e _secret_.\n",
    "Successivamente si possono effettuare richieste del tipo:<br>\n",
    "`sp.search(\"Timber\", limit=4)` Restituisce un json con i primi 4 risultati della ricerca \"Timber\"<br>\n",
    "`sp.audio_features([track_id])` Restituisce un oggetto json con quegli indici di features relativi all'id del brano inserito\n",
    "\n",
    "Quindi costruisco un array di oggetti json del tipo:\n",
    "```\n",
    "{\n",
    "    \"name\": \"nome brano\",\n",
    "    \"playlist\": \"nome playlist di appartenenza (se presente)\"\n",
    "    \"track_id\": \"id di spotify del brano\",\n",
    "    \"speechiness\": valore,\n",
    "    \"energy\": valore,\n",
    "    ..\n",
    "}\n",
    "```\n",
    "Per mandarlo a Logstash con tcp su porta 6000"
   ]
  },
  {
   "cell_type": "markdown",
   "metadata": {
    "slideshow": {
     "slide_type": "slide"
    }
   },
   "source": [
    "## Logstash\n",
    "\n",
    "Nella sua configurazione definisco come input: tcp con porta 6000, e come output: stdout e kafka sul topic: topic_1"
   ]
  },
  {
   "cell_type": "markdown",
   "metadata": {
    "slideshow": {
     "slide_type": "slide"
    }
   },
   "source": [
    "## Kafka\n",
    "\n",
    "Rende disponibili i dati sulla porta 9092 e topic topic_1"
   ]
  },
  {
   "cell_type": "markdown",
   "metadata": {
    "slideshow": {
     "slide_type": "slide"
    }
   },
   "source": [
    "## Spark\n",
    "\n",
    "Usando pyspark, la libreria per spark di python. Creo un input structured stream da kafka, e organizzo i messaggi in un dataframe.\n",
    "Creo 2 dataframe di training, nel primo (_train1_ ) carico il dataset csv dalle top canzoni su spotify della settimana e della giornata, per un totale di 150 brani.\n",
    "Il secondo dataframe di training (train_inverse), invece lo creo basandomi sul primo, ad ogni valore mappo 1 - valore in _train1_ in modo da avere un set fittizio di canzoni con valori esattamente opposti a quelle più popolari.\n",
    "Quindi aggiungo a entrambi una colonna impostata a 1 per tutto _train1_ e a 0 per tutto train_inverse\n",
    "\n",
    "Per ogni brano o insieme di brani in arrivo, eseguo le operazioni in pipeline, che aggiungeranno la colonna di _prediction_, che avrà un valore in base a quanto gli indici di speechness, valence, ecc.. saranno simili a quelli delle top songs.\n",
    "\n",
    "Quindi invio il risultato ad elasticsearch con:\n",
    "```\n",
    "(df.writeStream\n",
    "    .option(\"checkpointLocation\", \"/temp/tmp/checkpoints\")\n",
    "    .format(\"es\")\n",
    "    .start(es_index)\n",
    "    .awaitTermination())\n",
    "```"
   ]
  },
  {
   "cell_type": "markdown",
   "metadata": {
    "slideshow": {
     "slide_type": "slide"
    }
   },
   "source": [
    "## Per avviare\n",
    "\n",
    "Dalla directory principale del progetto, eseguire lo script ./start.sh"
   ]
  },
  {
   "cell_type": "markdown",
   "metadata": {
    "slideshow": {
     "slide_type": "fragment"
    }
   },
   "source": [
    "Esso scaricherà i file necessari, ovvero solo l'archivio di spark-hadoop, per costruire la docker image.\n",
    "Dopodichè eseguirà: docker-compose -d, avviando i container della ui, logstash, kafka, zookeeper, spark, elastic e kibana.\n",
    "\n",
    "##### Opzionale:\n",
    "Se si vuole aggiornare il training set di canzoni, su cui spark basa le predizioni, basta uncommentare le righe specifiche in start.sh"
   ]
  }
 ],
 "metadata": {
  "celltoolbar": "Slideshow",
  "interpreter": {
   "hash": "31f2aee4e71d21fbe5cf8b01ff0e069b9275f58929596ceb00d14d90e3e16cd6"
  },
  "kernelspec": {
   "display_name": "Python 3 (ipykernel)",
   "language": "python",
   "name": "python3"
  },
  "language_info": {
   "codemirror_mode": {
    "name": "ipython",
    "version": 3
   },
   "file_extension": ".py",
   "mimetype": "text/x-python",
   "name": "python",
   "nbconvert_exporter": "python",
   "pygments_lexer": "ipython3",
   "version": "3.8.10"
  }
 },
 "nbformat": 4,
 "nbformat_minor": 2
}
